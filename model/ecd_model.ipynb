{
 "cells": [
  {
   "cell_type": "code",
   "execution_count": null,
   "metadata": {
    "colab": {
     "base_uri": "https://localhost:8080/"
    },
    "id": "rM4jeIwPr2CQ",
    "outputId": "f52b57af-2817-4ae8-a888-f2d24af367c1"
   },
   "outputs": [
    {
     "name": "stdout",
     "output_type": "stream",
     "text": [
      "Mounted at /content/MyDrive\n"
     ]
    }
   ],
   "source": [
    "# To reduce the number of times this peace of code might be run\n",
    "# (when not necessary), it is kept in its ow cell seperate from other imports\n",
    "# necessary to run the model training and evaluation\n",
    "from google.colab import drive\n",
    "\n",
    "drive.mount(\"/content/MyDrive\")\n",
    "\n",
    "# read in the file and close the file stream\n",
    "explicit_pic_urls_file = open(\"/content/MyDrive/MyDrive/ecd-project/pic-urls.txt\", \"r\")\n",
    "explicit_pics_urls = explicit_pic_urls_file.readlines()\n",
    "explicit_pic_urls_file.close()\n",
    "neutral_pics_files = open(\"/content/MyDrive/MyDrive/ecd-project/neutral-urls.txt\")\n",
    "neutral_pics_urls = neutral_pics_files.readlines()\n",
    "neutral_pics_files.close()"
   ]
  },
  {
   "cell_type": "code",
   "execution_count": null,
   "metadata": {
    "id": "dqHQr2I6kWq3"
   },
   "outputs": [],
   "source": [
    "import imageio\n",
    "import numpy as np\n",
    "import torch\n",
    "import torch.nn as nn\n",
    "import torch.nn.functional as F\n",
    "import torch.optim as optim\n",
    "from torch.utils.data.dataset import Dataset\n",
    "import torchvision.models as models\n",
    "import torchvision.datasets as datasets\n",
    "import torchvision.transforms as transforms\n",
    "\n",
    "from matplotlib import pyplot as plt\n",
    "from tqdm import tqdm"
   ]
  },
  {
   "cell_type": "markdown",
   "metadata": {},
   "source": [
    "## Preprocessing Algorithm\n",
    "Preprocessign mainly involved:\n",
    "```\n",
    "- Start\n",
    "- let viable_pictures <- emptylist[]\n",
    "- trainable_list = empty_list()\n",
    "- for url in pic_urls:\n",
    "    - if isActive(url):\n",
    "        viable_pictures.append(url)\n",
    "      else:\n",
    "          continue\n",
    "\n",
    "- for pic in viable_pictures:\n",
    "    matrix_form = convert_to_matrix(pic)\n",
    "    new_pic = resize(matrix_form, 100) # maintains ratio\n",
    "    new_pic = center_crop(new_pic)\n",
    "    trainable_list.append(new_pic)\n",
    "- end\n",
    "```\n",
    "\n",
    "## Creation of the Datasets\n",
    "- Shuffled all the pictures\n",
    "- seperated them into two parts:\n",
    "    - the larger constituted of (n - 2000) images\n",
    "    - the training dataset consisted of 2000 images"
   ]
  },
  {
   "cell_type": "code",
   "execution_count": null,
   "metadata": {
    "colab": {
     "base_uri": "https://localhost:8080/"
    },
    "id": "JNgi61dDvIUP",
    "outputId": "90d47014-c99a-4554-f823-45aab7adcaf2"
   },
   "outputs": [
    {
     "name": "stderr",
     "output_type": "stream",
     "text": [
      "100%|██████████| 20000/20000 [1:22:59<00:00,  4.02it/s]\n",
      "100%|██████████| 8000/8000 [39:55<00:00,  3.34it/s]\n"
     ]
    }
   ],
   "source": [
    "# this array stores all the valid pictures in form of np matrices that can be\n",
    "# used to train the model\n",
    "trainable_data = []\n",
    "neutral_trainable_data = []\n",
    "\n",
    "img_transfroms = transforms.Compose([\n",
    "    transforms.Resize(100),\n",
    "    transforms.CenterCrop(100),\n",
    "])\n",
    "\n",
    "def fetch_images(dataset_urls, dataset, expected_output, transform, size):\n",
    "  # Download the explict image\n",
    "  for i in tqdm(range(size)):\n",
    "    # this try-except block catched all the HttpError that are as a result of a\n",
    "    # dead-link (404) or any other status code except 200 (OK)\n",
    "    try:\n",
    "      img = imageio.imread(dataset_urls[i])\n",
    "      # this try-except block is used to capture the images that have been removed\n",
    "      # this is shown by an np.matrix that is shape (81, 161) which declares\n",
    "      # such.\n",
    "      try:\n",
    "        h, w, c = img.shape\n",
    "        if c == 3:\n",
    "          image = transform(\n",
    "              torch.tensor(img, dtype=torch.float32).permute(2, 0, 1))\n",
    "          output = torch.tensor(expected_output)\n",
    "          new_image = torch.tensor(image.numpy(), dtype=torch.float32)\n",
    "          dataset.append((new_image, output))\n",
    "      except:\n",
    "        pass\n",
    "    except:\n",
    "      pass\n",
    "\n",
    "fetch_images(\n",
    "    explicit_pics_urls, trainable_data, 0, img_transfroms, 20000)\n",
    "fetch_images(\n",
    "    neutral_pics_urls, neutral_trainable_data, 1, img_transfroms, 8000)\n",
    "\n",
    "all_images = trainable_data\n",
    "all_images.extend(neutral_trainable_data)"
   ]
  },
  {
   "cell_type": "markdown",
   "metadata": {},
   "source": []
  },
  {
   "cell_type": "code",
   "execution_count": null,
   "metadata": {
    "id": "ocg1cn8P3twu"
   },
   "outputs": [],
   "source": [
    "\"\"\"\n",
    "This is the class that is used to encapsulate the data that will be used to\n",
    "train the model.\n",
    "\"\"\"\n",
    "class ImageDataset(Dataset):\n",
    "  def __init__(self, dataset):\n",
    "    self.data = dataset\n",
    "  \n",
    "  def __getitem__(self, idx):\n",
    "    img, out = self.data[idx]\n",
    "    return self.data[idx]\n",
    "  \n",
    "  def __len__(self):\n",
    "    return len(self.data)"
   ]
  },
  {
   "cell_type": "code",
   "execution_count": null,
   "metadata": {
    "id": "3cCveHes6lo-"
   },
   "outputs": [],
   "source": [
    "test = trainable_data[0: (len(trainable_data) - 2000)]\n",
    "val = trainable_data[len(trainable_data) - 2000:]\n",
    "# create the datasets\n",
    "training_dataset = ImageDataset(test)\n",
    "eval_dataset = ImageDataset(val)\n",
    "\n",
    "# create the image loaders\n",
    "train_image_loader = torch.utils.data.DataLoader(\n",
    "    dataset=training_dataset,\n",
    "    batch_size=5,\n",
    "    shuffle=True,\n",
    ")\n",
    "\n",
    "eval_image_loader = torch.utils.data.DataLoader(\n",
    "    dataset=eval_dataset,\n",
    "    batch_size=5,\n",
    "    shuffle=False,\n",
    ")\n"
   ]
  },
  {
   "cell_type": "markdown",
   "metadata": {},
   "source": [
    "## The CNN\n",
    "This step involvd experimenting with a few variations of models that use the CNN architecture\n",
    "before setling on an architecture that gave good enough results to allow for finetuning that\n",
    "would fit the prediction needed for this dataset well.\n",
    "\n",
    "### Experiment 1\n",
    "#### ResNet18 model\n",
    "- This model has 18 convolutional layers\n",
    "- The final convolutional layer is connected to a fully connected layer that has the desired number of outputs that you desire from your network.\n",
    "- This model is trained using the CrossEntropyLoss wich is often cited as a good loss function when dealing with probabilistic output from a neural network"
   ]
  },
  {
   "cell_type": "code",
   "execution_count": null,
   "metadata": {
    "id": "qGXE3vS58NUc"
   },
   "outputs": [],
   "source": [
    "class ImageConv(nn.Module):\n",
    "  def __init__(self):\n",
    "    super().__init__()\n",
    "    self.conv1 = nn.Conv2d(3, 64, 7)\n",
    "    self.pool1 = nn.MaxPool2d(3, 2)\n",
    "    self.conv2 = nn.Conv2d(64, 64, 3) # 2 times\n",
    "    self.conv3 = nn.Conv2d(64, 128, 3)\n",
    "    self.conv4 = nn.conv2d(128, 128, 3)\n",
    "    self.conv4 = nn.Conv2d(128, 256, 3)\n",
    "    self.conv5 = nn.Conv2d(256, 256, 3)\n",
    "    self.conv8 = nn.Conv2d(256, 512, 3)\n",
    "    self.conv9 =  nn.Conv2d(512, 512, 3)\n",
    "    self.fc1 = nn.Linear(512, 2)\n",
    "  \n",
    "  def forward(self, x):\n",
    "    sample_size = x.shape[0]\n",
    "    x = F.relu(self.conv1(x))\n",
    "    x = self.pool(x)\n",
    "    x = F.relu(self.conv2(x))\n",
    "    x = self.pool(x)\n",
    "    x = F.relu(self.conv3(x))\n",
    "    x = self.pool(x)\n",
    "    x = F.relu(self.conv4(x))\n",
    "    x = self.pool(x)\n",
    "    x = F.relu(self.conv5(x))\n",
    "    x = self.pool(x)\n",
    "    x = F.relu(self.conv8(x))\n",
    "    x = self.pool(x)\n",
    "    x = x.view(sample_size, -1)\n",
    "    print(x.shape)\n",
    "    x = self.fc1(x)\n",
    "\n",
    "    return x"
   ]
  },
  {
   "cell_type": "markdown",
   "metadata": {},
   "source": [
    "# Training\n",
    "Training involved "
   ]
  },
  {
   "cell_type": "code",
   "execution_count": null,
   "metadata": {
    "id": "cfkgGhY8I1yJ"
   },
   "outputs": [],
   "source": [
    "conv_net = ImageConv()\n",
    "criterion = torch.nn.CrossEntropyLoss()\n",
    "optimizer = optim.Adam(conv_net.parameters(), lr=0.001)\n",
    "\n",
    "epoch_size = 4\n",
    "\n",
    "print(len(all_images))\n",
    "\n",
    "for epoch in range(epoch_size):\n",
    "  for i, (image, expected_output) in enumerate(train_image_loader):\n",
    "    optimizer.zero_grad()\n",
    "    out = conv_net(image)\n",
    "    # print(out.shape)\n",
    "    eo = None\n",
    "    loss = criterion(out, expected_output)\n",
    "    optimizer.step()\n",
    "\n",
    "    if (i % 500) == 0:\n",
    "      print(f\"loss={loss} in step {i} of epoch {epoch}\")\n",
    "    break\n",
    "  # print(i)"
   ]
  },
  {
   "cell_type": "code",
   "execution_count": null,
   "metadata": {
    "id": "hD-FknOtOV4Z"
   },
   "outputs": [],
   "source": [
    "t = np.array([[[1]], [[2]]])\n",
    "tt = torch.tensor(t, dtype=torch.float32)\n",
    "nt = torch.tensor(tt.numpy(), dtype=torch.float32)\n",
    "\n",
    "nt"
   ]
  },
  {
   "cell_type": "code",
   "execution_count": null,
   "metadata": {
    "id": "E3R-IYAhtV7H"
   },
   "outputs": [],
   "source": [
    "test_image, test_output = all_images[2]\n",
    "p_output = conv_net(test_image.view(-1, 3, 100, 100))\n",
    "torch.argmax(p_output)"
   ]
  },
  {
   "cell_type": "code",
   "execution_count": null,
   "metadata": {
    "id": "9gk4hiGtV-2R"
   },
   "outputs": [],
   "source": [
    "res_model = models.resnet18(pretrained=True)\n",
    "\n",
    "# freeze learning for previous net and eval\n",
    "for param in res_model.parameters():\n",
    "  param.requires_grad = False\n",
    "\n",
    "num_features = res_model.fc.in_features\n",
    "res_model.fc = nn.Linear(num_features, 2)\n",
    "\n",
    "optimizer = optim.SGD(res_model.parameters(), lr=0.001)"
   ]
  },
  {
   "cell_type": "code",
   "execution_count": null,
   "metadata": {
    "colab": {
     "base_uri": "https://localhost:8080/"
    },
    "id": "UA0fZotmgpoD",
    "outputId": "bf1bbbe9-5f89-42c4-8281-22bf5c97fead"
   },
   "outputs": [
    {
     "name": "stderr",
     "output_type": "stream",
     "text": [
      "4509it [12:07,  6.20it/s]\n",
      "4509it [12:04,  6.22it/s]\n",
      "4509it [11:40,  6.44it/s]\n",
      "4509it [11:34,  6.49it/s]\n"
     ]
    }
   ],
   "source": [
    "steps_axis = []\n",
    "steps_loss = []\n",
    "steps_loss_labels = []\n",
    "\n",
    "# Training loop\n",
    "for epoch in range(epoch_size):\n",
    "  epoch_losses = []\n",
    "  steps_loss_labels.append(f\"epoch_{epoch + 1}\")\n",
    "  for i, (image, expected_output) in tqdm(enumerate(train_image_loader)):\n",
    "    optimizer.zero_grad()\n",
    "    out = res_model(image)\n",
    "    loss = criterion(out, expected_output)\n",
    "    optimizer.step()\n",
    "\n",
    "    if (i % 500) == 0:\n",
    "      epoch_losses.append(loss)\n",
    "      if epoch == 0:\n",
    "        steps_axis.append(i)\n",
    "  steps_loss.append(epoch_losses)\n"
   ]
  },
  {
   "cell_type": "code",
   "execution_count": null,
   "metadata": {
    "colab": {
     "base_uri": "https://localhost:8080/",
     "height": 295
    },
    "id": "xP61_a0pvDZ0",
    "outputId": "91f4c664-4c41-411c-dab2-53cea08447db"
   },
   "outputs": [
    {
     "data": {
      "image/png": "[encoded data removed]",
      "text/plain": [
       "<Figure size 432x288 with 1 Axes>"
      ]
     },
     "metadata": {
      "needs_background": "light",
      "tags": []
     },
     "output_type": "display_data"
    }
   ],
   "source": [
    "for i, epoch_losses in enumerate(steps_loss):\n",
    "  plt.plot(steps_axis, epoch_losses, label=steps_loss_labels[i])\n",
    "\n",
    "plt.title(\"A plot of Loss progression in each epoch\")\n",
    "plt.xlabel(\"Iteration count\")\n",
    "plt.ylabel(\"Loss size\")\n",
    "plt.legend()\n",
    "plt.show()"
   ]
  },
  {
   "cell_type": "code",
   "execution_count": null,
   "metadata": {
    "colab": {
     "base_uri": "https://localhost:8080/"
    },
    "id": "BDPXgOEMgfTq",
    "outputId": "08df70fb-b246-430c-f98c-03b4bff6c6e9"
   },
   "outputs": [
    {
     "name": "stderr",
     "output_type": "stream",
     "text": [
      "1it [00:00,  6.23it/s]"
     ]
    },
    {
     "name": "stdout",
     "output_type": "stream",
     "text": [
      "Evaluating...\n"
     ]
    },
    {
     "name": "stderr",
     "output_type": "stream",
     "text": [
      "400it [01:02,  6.43it/s]"
     ]
    },
    {
     "name": "stdout",
     "output_type": "stream",
     "text": [
      "Model accuracy 84.8 over 2000 total evaluation samples\n"
     ]
    },
    {
     "name": "stderr",
     "output_type": "stream",
     "text": [
      "\n"
     ]
    }
   ],
   "source": [
    "# Evaluation cycle\n",
    "print(\"Evaluating...\")\n",
    "total_samples = len(val)\n",
    "accurate = 0\n",
    "\n",
    "with torch.no_grad():\n",
    "  for i, (image, expected_output) in tqdm(enumerate(eval_image_loader)):\n",
    "    # optimizer.zero_grad()\n",
    "    out = res_model(image)\n",
    "    \n",
    "    for j, prediction in enumerate(out):\n",
    "      pred = torch.argmax(prediction)\n",
    "      if expected_output[j].item() == pred:\n",
    "        accurate += 1\n",
    "\n",
    "perc_accuracy = (accurate/total_samples) * 100\n",
    "\n",
    "print(f\"Model accuracy {perc_accuracy} over {total_samples} total evaluation samples\")"
   ]
  },
  {
   "cell_type": "code",
   "execution_count": null,
   "metadata": {
    "colab": {
     "base_uri": "https://localhost:8080/"
    },
    "id": "DMzmkekWARUL",
    "outputId": "3dd4fa1d-125e-4fd5-bbc0-42baa1ae832b"
   },
   "outputs": [
    {
     "name": "stdout",
     "output_type": "stream",
     "text": [
      "512\n"
     ]
    }
   ],
   "source": [
    "print(num_features)"
   ]
  }
 ],
 "metadata": {
  "colab": {
   "collapsed_sections": [],
   "name": "ecd_model.ipynb",
   "provenance": []
  },
  "kernelspec": {
   "display_name": "Python 3",
   "language": "python",
   "name": "python3"
  },
  "language_info": {
   "codemirror_mode": {
    "name": "ipython",
    "version": 3
   },
   "file_extension": ".py",
   "mimetype": "text/x-python",
   "name": "python",
   "nbconvert_exporter": "python",
   "pygments_lexer": "ipython3",
   "version": "3.8.5"
  }
 },
 "nbformat": 4,
 "nbformat_minor": 1
}
