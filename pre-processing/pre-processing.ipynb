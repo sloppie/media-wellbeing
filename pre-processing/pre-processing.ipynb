{
 "cells": [
  {
   "cell_type": "code",
   "execution_count": 1,
   "metadata": {},
   "outputs": [],
   "source": [
    "import pandas as pd\n",
    "from matplotlib import pyplot as plt\n",
    "from tqdm import tqdm\n",
    "import os"
   ]
  },
  {
   "cell_type": "markdown",
   "metadata": {},
   "source": [
    "# EXPLICIT CONTENT PRE-PROCESSING"
   ]
  },
  {
   "cell_type": "markdown",
   "metadata": {},
   "source": [
    "# Step I\n",
    "## Convert to CSV\n",
    "This step includes importing all the scrapped links into the program from the `../data-scrapper/data` folder.\n",
    "After importing, at first, the data will have an extra row added atop the data to label all the columns to enable dealing with pandas library to preprocess the data.\n",
    "This includes the following columns:\n",
    "1. `img_link` - this is the url scrapped by the data-scrapper\n",
    "2. `category` - this is the category that is attached with the scrapped url\n",
    "3. `is_explicit` - this is the label on whether the image is explicit or not, this is a binary option `(yes, no)`\n",
    "\n",
    "After this row with the two column labels is added, the label column is added to all row containing the link and the newly added label to dictate whether the image is ecplicit or not, this is very important for training and evaluation purposes.\n",
    "\n",
    "`NOTE`:\n",
    "As from noted whitespaces in between the data columns (esp. in first row for failed scrapping attempts), the creation of csv files will take into consideration that all the white spaces have to be scrapped off."
   ]
  },
  {
   "cell_type": "code",
   "execution_count": 2,
   "metadata": {},
   "outputs": [],
   "source": [
    "all_categories = os.scandir(\"../data-scrapper/data\")\n",
    "\n",
    "for category in all_categories:\n",
    "    with open(category.path) as open_category:\n",
    "        labels = [\"img_link,category,is_explicit\\n\"]\n",
    "        for line in open_category.readlines():\n",
    "            category_name = category.name.replace(\".txt\", \"\")\n",
    "            # check if it is an empty line, only executes if it is not an empty row\n",
    "            # also makes sure that we do not add any link with a comma in it as it may lead to parsing csv issues\n",
    "            if line != \"\\n\" and not \",\" in line:\n",
    "                new_line = line.replace(\"\\n\", \"\") + f\",{category_name},yes\\n\"\n",
    "                labels.extend([new_line])\n",
    "        with open(f\"data/explicit/{category.name.replace('.txt', '.csv')}\", \"w\") as new_csv:\n",
    "            new_csv.writelines(labels)"
   ]
  },
  {
   "cell_type": "markdown",
   "metadata": {},
   "source": [
    "# Step II\n",
    "## Remove redundancies\n",
    "This section tries to make sure that the data does not contain any redundancies in the training set as they moght lead to overfitting in the machine learning model.\n",
    "After redundancies are spotted,they are removed and a new csv is created without those redundancies.\n",
    "\n",
    "In order to try and increase the dataset size, in categories that were found to have only one unique image, the category was completley done away (deleted from the `data-scrapper` directory) with and the category was then handed back to the scrapper to try and ensure that images from that category would be populated afresh."
   ]
  },
  {
   "cell_type": "code",
   "execution_count": 3,
   "metadata": {},
   "outputs": [
    {
     "name": "stderr",
     "output_type": "stream",
     "text": [
      "94it [00:01, 58.63it/s]\n"
     ]
    },
    {
     "data": {
      "image/png": "[encoded data removed]",
      "text/plain": [
       "<Figure size 432x288 with 1 Axes>"
      ]
     },
     "metadata": {
      "needs_background": "light"
     },
     "output_type": "display_data"
    },
    {
     "name": "stderr",
     "output_type": "stream",
     "text": [
      "100%|███████████████████████████████████████████████████████| 3/3 [00:00<?, ?it/s]"
     ]
    },
    {
     "name": "stdout",
     "output_type": "stream",
     "text": [
      "purging 3 categories...\n",
      "purge Babysitter.txt\n",
      "purge Russian.txt\n",
      "purge SFW0.txt\n",
      "successfully purged imbalanced datasets.\n"
     ]
    },
    {
     "name": "stderr",
     "output_type": "stream",
     "text": [
      "\n"
     ]
    }
   ],
   "source": [
    "img_category_no = []\n",
    "img_category_count = []\n",
    "unique_images = []\n",
    "# keeps track of categories with minimal data size (i.e below 100) and these categories will be redownloaded\n",
    "imbalanced_categories = []\n",
    "\n",
    "for i, csv in tqdm(enumerate(os.scandir(\"data/explicit\"))):\n",
    "    # to prevent opening directories which may lead to program failure, all files must satisfy having the \".csv\" extension\n",
    "    # before commencing the process fo opening\n",
    "    if \".csv\" in csv.name:\n",
    "        open_csv = pd.read_csv(csv.path)\n",
    "        category_name = csv.name.replace(\".csv\", \"\")\n",
    "        dataset_size = len(pd.unique(open_csv[\"img_link\"]))\n",
    "        if (dataset_size > 100):\n",
    "            unique_images.append({\"category\": category_name,\"images\": pd.unique(open_csv[\"img_link\"])})\n",
    "        else:\n",
    "            imbalanced_categories.append(csv.name.replace(\".csv\", \".txt\"))\n",
    "\n",
    "        img_category_count.append(dataset_size) # keep track of dataset size per category\n",
    "        img_category_no.append(i)\n",
    "\n",
    "# print the data bar graph to help decide what size should be snipped from each category\n",
    "plt.title(\"A graph showing the size the number of unique img_links per img category\")\n",
    "plt.xlabel(\"Image Category (in index)\")\n",
    "plt.ylabel(\"No. of unique images\")\n",
    "plt.bar(img_category_no, img_category_count)\n",
    "plt.show()\n",
    "    \n",
    "# purge all the imbalanced categories:\n",
    "print(f\"purging {len(imbalanced_categories)} categories...\")\n",
    "\n",
    "for cat in tqdm(imbalanced_categories):\n",
    "    try:\n",
    "#         os.remove(f\"../data-scrapper/data/{cat}\")\n",
    "        print(f\"purge {cat}\")\n",
    "    except:\n",
    "        pass\n",
    "\n",
    "print(\"successfully purged imbalanced datasets.\")"
   ]
  },
  {
   "cell_type": "markdown",
   "metadata": {},
   "source": [
    "# Step III\n",
    "## combine all the data into one csv\n",
    "After removing redundancies in single categories, the data is combined to remove redundancies in the whole dataset. This includes:\n",
    "1. Images overlapped categories thus need to remove is there even if the image is classified over several categories.\n",
    "2. Re-add the labelling column (img_urls,category,is_explicit)\n",
    "\n",
    "`NOTE`\n",
    "A redundant image is only added with its first seen category."
   ]
  },
  {
   "cell_type": "code",
   "execution_count": 4,
   "metadata": {},
   "outputs": [
    {
     "name": "stderr",
     "output_type": "stream",
     "text": [
      "  5%|██▌                                           | 5/91 [00:00<00:01, 45.45it/s]"
     ]
    },
    {
     "name": "stdout",
     "output_type": "stream",
     "text": [
      "91\n",
      "Searching for redundancies...\n"
     ]
    },
    {
     "name": "stderr",
     "output_type": "stream",
     "text": [
      "100%|█████████████████████████████████████████████| 91/91 [00:19<00:00,  4.63it/s]"
     ]
    },
    {
     "name": "stdout",
     "output_type": "stream",
     "text": [
      "redundancies removed. 39345 unique rows of images left.\n",
      "writing to csv...\n",
      "saved to: data/processed-data/explicit/combined.csv\n"
     ]
    },
    {
     "name": "stderr",
     "output_type": "stream",
     "text": [
      "\n"
     ]
    }
   ],
   "source": [
    "# Moving on with categories that are well balanced and all the unique images\n",
    "print(len(unique_images))\n",
    "# We keep track of the added images in the global csv by adding any image that is appended to the global csv to this list.\n",
    "# Before any new image is added, we first make sure that the image url is not found in this list that keeps track of image\n",
    "# urls added to the global csv.\n",
    "added_images = []\n",
    "combined_csv = [\"img_link,category,is_explicit\\n\"]  # add the labelling row for the csv\n",
    "\n",
    "print(\"Searching for redundancies...\")\n",
    "for category_images in tqdm(unique_images):\n",
    "    for img in category_images[\"images\"]:  # iterate through only the images in the dict.\n",
    "        try:\n",
    "            added_images.index(img)\n",
    "        except ValueError as ve:\n",
    "            # error means that the image is not redundant\n",
    "            new_row = f\"{img},{category_images['category']},yes\\n\"\n",
    "            combined_csv.extend([new_row])  # added as an array to allow the use of file.writelines to write to file\n",
    "            added_images.append(img)\n",
    "\n",
    "print(f\"redundancies removed. {len(added_images)} unique rows of images left.\")\n",
    "print(\"writing to csv...\")\n",
    "with open(\"data/processed-data/explicit/combined.csv\", \"w\") as combined_data:\n",
    "    combined_data.writelines(combined_csv)\n",
    "print(\"saved to: data/processed-data/explicit/combined.csv\")"
   ]
  },
  {
   "cell_type": "markdown",
   "metadata": {},
   "source": [
    "# Step IV\n",
    "## Convert The Categorical inputs into numerical data\n",
    "This involves changing up the column `is_explicit` into a numerical column instead of the `yes|no` format it is currently in. This means that the `yes` will be converted to `1` and the `no` column will be converted into `0`.\n",
    "\n",
    "This will allow for easier training of the model when that part arrives."
   ]
  },
  {
   "cell_type": "code",
   "execution_count": 5,
   "metadata": {},
   "outputs": [
    {
     "name": "stdout",
     "output_type": "stream",
     "text": [
      "######################## BEFORE ####################\n",
      "                                            img_link category is_explicit\n",
      "0  https://img-hw.xnxx-cdn.com/videos/thumbslll/b...  Amateur         yes\n",
      "1  https://img-egc.xvideos-cdn.com/videos/thumbsl...  Amateur         yes\n",
      "2  http://img-hw.xvideos.com/videos/thumbsll/16/3...  Amateur         yes\n",
      "3  https://img-egc.xvideos-cdn.com/videos/thumbsl...  Amateur         yes\n",
      "4  http://cdn1b.static.pornhub.phncdn.com/www-sta...  Amateur         yes\n",
      "\n",
      "\n",
      "######################## AFTER ####################\n",
      "                                            img_link category  is_explicit\n",
      "0  https://img-hw.xnxx-cdn.com/videos/thumbslll/b...  Amateur            1\n",
      "1  https://img-egc.xvideos-cdn.com/videos/thumbsl...  Amateur            1\n",
      "2  http://img-hw.xvideos.com/videos/thumbsll/16/3...  Amateur            1\n",
      "3  https://img-egc.xvideos-cdn.com/videos/thumbsl...  Amateur            1\n",
      "4  http://cdn1b.static.pornhub.phncdn.com/www-sta...  Amateur            1\n"
     ]
    }
   ],
   "source": [
    "before_normalisation = pd.read_csv(\"data/processed-data/explicit/combined.csv\")\n",
    "print(\"######################## BEFORE ####################\")\n",
    "print(before_normalisation.head())\n",
    "try:\n",
    "    print(\"\\n\\n######################## AFTER ####################\")\n",
    "    before_normalisation[\"is_explicit\"].replace({\n",
    "        \"yes\": 1,\n",
    "        \"no\": 2,\n",
    "    }, inplace=True)\n",
    "    print(before_normalisation.head())\n",
    "    before_normalisation.to_csv(\"data/processed-data/explicit/combined.csv\", index=False)\n",
    "except:\n",
    "    pass"
   ]
  },
  {
   "cell_type": "markdown",
   "metadata": {},
   "source": [
    "# NEUTRAL CONTENT PRE-PROCESSING"
   ]
  },
  {
   "cell_type": "markdown",
   "metadata": {},
   "source": [
    "## Step I\n",
    "### Covert scrapped links to CSV\n",
    "The scrapped links are converted to CSV files containing the following categories:\n",
    "1. `img_link` - the link where the image is served from\n",
    "2. `category` - all set to `neutral` instead of using the ImageNet labels\n",
    "2. `is_epxplicit` - all are set to `no` since none of the images is explicit"
   ]
  },
  {
   "cell_type": "code",
   "execution_count": 20,
   "metadata": {},
   "outputs": [
    {
     "name": "stderr",
     "output_type": "stream",
     "text": [
      "100%|██████████████████████████████████████████| 20/20 [00:00<00:00, 19395.63it/s]\n"
     ]
    },
    {
     "name": "stdout",
     "output_type": "stream",
     "text": [
      "Final NEUTRAL-CSV size: 19784\n"
     ]
    },
    {
     "data": {
      "image/png": "[encoded data removed]",
      "text/plain": [
       "<Figure size 432x288 with 1 Axes>"
      ]
     },
     "metadata": {
      "needs_background": "light"
     },
     "output_type": "display_data"
    }
   ],
   "source": [
    "neutral_imgs = os.scandir(\"../data-scrapper/neutral-data\")\n",
    "\n",
    "labels = [\"img_link,category,is_explicit\\n\"]\n",
    "\n",
    "# Create a multi dimensional array of 1 x 19 this will enable creation of bins that have an image from each category\n",
    "# for all the thousands of images scrapped for the neutral category.\n",
    "# The aim of this is to ensure that no matter how many images are sampled, the data is evenly distributed from all categories.\n",
    "img_bins = [[] for i in range(20)]  # creates a list of 19 bins\n",
    "\n",
    "\n",
    "# fetch all the images and store them in the all_images variable to enable easy traversal for the binning process\n",
    "for category in neutral_imgs:\n",
    "    with open(category.path) as open_category:\n",
    "        category_imgs = []\n",
    "#          check for imbalanced categories\n",
    "        for i, line in enumerate(open_category.readlines()):\n",
    "            # check if it is an empty line, only executes if it is not an empty row\n",
    "            # also makes sure that we do not add any link with a comma in it as it may lead to parsing csv issues\n",
    "            if line != \"\\n\" and not \",\" in line:\n",
    "                new_line = line.replace(\"\\n\", \"\") + \",neutral,no\\n\"\n",
    "                if i < 20:\n",
    "                    img_bins[i].append(line)\n",
    "\n",
    "\n",
    "# will hold all the redistributed images that have been balanced out\n",
    "redistributed_images = [\"img_link,category,is_explicit\\n\"]  \n",
    "\n",
    "# # evenly redistribute the downloaded images\n",
    "for img_bin in tqdm(img_bins):\n",
    "    redistributed_images.extend(img_bin)\n",
    "\n",
    "with open(f\"data/neutral/neutral.csv\", \"w\") as new_csv:\n",
    "    new_csv.writelines(redistributed_images)\n",
    "\n",
    "print(f\"Final NEUTRAL-CSV size: {len(redistributed_images)}\")\n",
    "\n",
    "plt.title(\"A graph showing size of each redistributed bin\")\n",
    "plt.xlabel(\"Bin No (index)\")\n",
    "plt.ylabel(\"Bin Size (in hundreds)\")\n",
    "plt.bar([i for i in range(20)], [len(img_bin) for img_bin in img_bins])\n",
    "plt.show()"
   ]
  },
  {
   "cell_type": "markdown",
   "metadata": {},
   "source": [
    "## Step II\n",
    "### Remove Redundancies\n",
    "This step includes removing any redundancies that may be found in the data in terms of the same image being scrapped twice.\n",
    "Also includes making sure that the data is balanced after the redundancies are removed."
   ]
  },
  {
   "cell_type": "code",
   "execution_count": 88,
   "metadata": {
    "scrolled": false
   },
   "outputs": [
    {
     "name": "stdout",
     "output_type": "stream",
     "text": [
      "Size of the pre-processed CSV: 19722\n"
     ]
    }
   ],
   "source": [
    "neutral_csv = pd.read_csv(\"data/neutral/neutral.csv\")\n",
    "unique_imgs = pd.unique(neutral_csv[\"img_link\"])\n",
    "\n",
    "combined_neutral_images = [\"img_link,category,is_explicit\"]\n",
    "\n",
    "for img_url in unique_imgs:\n",
    "    combined_neutral_images.append(f\"{img_url},neutral,0\\n\")\n",
    "\n",
    "with open(\"data/processed-data/neutral/combined.csv\", \"w\") as combined_neutral_file:\n",
    "    combined_neutral_file.writelines(combined_neutral_images)\n",
    "\n",
    "print(f\"Size of the pre-processed CSV: {len(unique_imgs)}\")"
   ]
  },
  {
   "cell_type": "markdown",
   "metadata": {},
   "source": [
    "# Creating The Datasets\n",
    "In order to test the best balance between neutral an explicit images that would be used to train the dataset, I would experiment with different sizes of the data:\n",
    "1. `50 - 50` - This is one in which i would give an equal number of neutral and explicit images.\n",
    "2. `70 - 30` - 70% explicit, 20% neutral\n",
    "3. `80 - 20` - 80% explicit images, 20% neutral\n",
    "4. `90 - 10` - 90% explicit images, 10% neutral\n",
    "\n",
    "These datasets will be observed over the training in terms of accuracy after training and during prediction in observations of things like the confusion matrix in order to determine which was most stable and would be proceeded with and optimised for best results.\n",
    "\n",
    "`NOTE:` After the neutral and explicit images are combined, the data would be split for a 70:30 dataset:\n",
    "1. 70% for the training iteration\n",
    "2. 30% for the evaluation iteration"
   ]
  },
  {
   "cell_type": "code",
   "execution_count": 89,
   "metadata": {},
   "outputs": [
    {
     "name": "stdout",
     "output_type": "stream",
     "text": [
      "EXPLICIT: 39345 instances\n",
      "NEUTRAL: 19721 instances\n"
     ]
    }
   ],
   "source": [
    "explicit_dataset = []\n",
    "neutral_dataset = []\n",
    "\n",
    "with open(\"data/processed-data/explicit/combined.csv\") as ed:\n",
    "    explicit_dataset = ed.readlines()\n",
    "    explicit_dataset.pop(0) # remove the labelling column\n",
    "\n",
    "with open(\"data/processed-data/neutral/combined.csv\") as nd:\n",
    "    neutral_dataset = nd.readlines()\n",
    "    neutral_dataset.pop(0) # remove the labelling column\n",
    "\n",
    "\n",
    "print(f\"EXPLICIT: {len(explicit_dataset)} instances\")\n",
    "print(f\"NEUTRAL: {len(neutral_dataset)} instances\")"
   ]
  },
  {
   "cell_type": "markdown",
   "metadata": {},
   "source": [
    "## Dataset Creation\n",
    "### Splitting The Data\n",
    "The data is spit at the basis of each 10 images, this means that if the data is `50 - 50`, then in every 10 images after splitting exists, `5 explicit` and `5 neutral`\n",
    "### Saving The Refined Dataset\n",
    "After creating the dataset, it is in appended the naming row `img_link,category,is_explicit` and then saved in a directory representative of how the dataset has been split and the type of data it is i.e:\n",
    "1. The data is saved in a folder named `xx-yy` in which case `xx` is the percentage of the explicit data and `yy` is the percentage of the neutral data.\n",
    "2. Each type of dataset is saved in a representative file. i.e:\n",
    "  - `train.csv` - contains the dataset used to train\n",
    "  - `test.csv` - contains the dataset used to evaluate the network."
   ]
  },
  {
   "cell_type": "code",
   "execution_count": 90,
   "metadata": {},
   "outputs": [],
   "source": [
    "# helps split the data in the propotions stated by in the method.\n",
    "# NOTE: Shuffling is not done here and will be carried out in the DataLoader step in the CNN training section\n",
    "def create_dataset(explicit, neutral):\n",
    "    ds_combined = []\n",
    "    explicit_copy = explicit_dataset.copy()\n",
    "    neutral_copy = neutral_dataset.copy()\n",
    "    \n",
    "    # Split dataset by iterating until its impossible to iterate any more while following propotions\n",
    "    while len(explicit_copy) >= explicit and len(neutral_copy) >= neutral:\n",
    "        # get the explicit data\n",
    "        for i in range(explicit):\n",
    "            try:\n",
    "                ds_combined.append(explicit_copy.pop(0))\n",
    "            except IndexError as ie:\n",
    "                print(\"Attempted to pop from an empty list\")\n",
    "        \n",
    "        for i in range(neutral):\n",
    "            try:\n",
    "                ds_combined.append(neutral_copy.pop(0))\n",
    "            except IndexError as ie:\n",
    "                print(\"Attempted to pop from an empty list\")\n",
    "\n",
    "    # split data in 70-30\n",
    "    train_len = int(0.7 * float(len(ds_combined)))\n",
    "    \n",
    "    return ds_combined[0:train_len], ds_combined[train_len:]\n",
    "\n",
    "\n",
    "def save_dataset(train, test, folder_name):\n",
    "    train_location = f\"data/processed-data/{folder_name}/train.csv\"\n",
    "    test_location = f\"data/processed-data/{folder_name}/test.csv\"\n",
    "    train_csv = [\"img_link,category,is_explicit\\n\"]\n",
    "    train_csv.extend(train)  # training csv\n",
    "    test_csv = [\"img_link,category,is_explicit\\n\"]\n",
    "    test_csv.extend(test)  # testing csv\n",
    "    \n",
    "    def write_to(location, data):\n",
    "        with open(location, \"w\") as target_file:\n",
    "            target_file.writelines(data)\n",
    "    \n",
    "    write_to(train_location, train_csv)\n",
    "    write_to(test_location, test_csv)\n",
    "    "
   ]
  },
  {
   "cell_type": "markdown",
   "metadata": {},
   "source": [
    "## 50 - 50 Dataset"
   ]
  },
  {
   "cell_type": "code",
   "execution_count": 91,
   "metadata": {},
   "outputs": [
    {
     "name": "stdout",
     "output_type": "stream",
     "text": [
      "Training Set: 27608 against Evaluation Set: 11832\n"
     ]
    },
    {
     "data": {
      "text/html": [
       "<div>\n",
       "<style scoped>\n",
       "    .dataframe tbody tr th:only-of-type {\n",
       "        vertical-align: middle;\n",
       "    }\n",
       "\n",
       "    .dataframe tbody tr th {\n",
       "        vertical-align: top;\n",
       "    }\n",
       "\n",
       "    .dataframe thead th {\n",
       "        text-align: right;\n",
       "    }\n",
       "</style>\n",
       "<table border=\"1\" class=\"dataframe\">\n",
       "  <thead>\n",
       "    <tr style=\"text-align: right;\">\n",
       "      <th></th>\n",
       "      <th>img_link</th>\n",
       "      <th>category</th>\n",
       "      <th>is_explicit</th>\n",
       "    </tr>\n",
       "  </thead>\n",
       "  <tbody>\n",
       "    <tr>\n",
       "      <th>0</th>\n",
       "      <td>https://img-hw.xnxx-cdn.com/videos/thumbslll/b...</td>\n",
       "      <td>Amateur</td>\n",
       "      <td>1</td>\n",
       "    </tr>\n",
       "    <tr>\n",
       "      <th>1</th>\n",
       "      <td>https://img-egc.xvideos-cdn.com/videos/thumbsl...</td>\n",
       "      <td>Amateur</td>\n",
       "      <td>1</td>\n",
       "    </tr>\n",
       "    <tr>\n",
       "      <th>2</th>\n",
       "      <td>http://img-hw.xvideos.com/videos/thumbsll/16/3...</td>\n",
       "      <td>Amateur</td>\n",
       "      <td>1</td>\n",
       "    </tr>\n",
       "    <tr>\n",
       "      <th>3</th>\n",
       "      <td>https://img-egc.xvideos-cdn.com/videos/thumbsl...</td>\n",
       "      <td>Amateur</td>\n",
       "      <td>1</td>\n",
       "    </tr>\n",
       "    <tr>\n",
       "      <th>4</th>\n",
       "      <td>http://cdn1b.static.pornhub.phncdn.com/www-sta...</td>\n",
       "      <td>Amateur</td>\n",
       "      <td>1</td>\n",
       "    </tr>\n",
       "    <tr>\n",
       "      <th>5</th>\n",
       "      <td>https://aquaanimania.com/wp-content/uploads/20...</td>\n",
       "      <td>neutral</td>\n",
       "      <td>0</td>\n",
       "    </tr>\n",
       "    <tr>\n",
       "      <th>6</th>\n",
       "      <td>https://media.istockphoto.com/photos/brambling...</td>\n",
       "      <td>neutral</td>\n",
       "      <td>0</td>\n",
       "    </tr>\n",
       "    <tr>\n",
       "      <th>7</th>\n",
       "      <td>https://media.istockphoto.com/photos/black-swa...</td>\n",
       "      <td>neutral</td>\n",
       "      <td>0</td>\n",
       "    </tr>\n",
       "    <tr>\n",
       "      <th>8</th>\n",
       "      <td>https://i.ebayimg.com/images/g/QH0AAOSwDptexxw...</td>\n",
       "      <td>neutral</td>\n",
       "      <td>0</td>\n",
       "    </tr>\n",
       "    <tr>\n",
       "      <th>9</th>\n",
       "      <td>https://media.istockphoto.com/photos/echidna-s...</td>\n",
       "      <td>neutral</td>\n",
       "      <td>0</td>\n",
       "    </tr>\n",
       "  </tbody>\n",
       "</table>\n",
       "</div>"
      ],
      "text/plain": [
       "                                            img_link category  is_explicit\n",
       "0  https://img-hw.xnxx-cdn.com/videos/thumbslll/b...  Amateur            1\n",
       "1  https://img-egc.xvideos-cdn.com/videos/thumbsl...  Amateur            1\n",
       "2  http://img-hw.xvideos.com/videos/thumbsll/16/3...  Amateur            1\n",
       "3  https://img-egc.xvideos-cdn.com/videos/thumbsl...  Amateur            1\n",
       "4  http://cdn1b.static.pornhub.phncdn.com/www-sta...  Amateur            1\n",
       "5  https://aquaanimania.com/wp-content/uploads/20...  neutral            0\n",
       "6  https://media.istockphoto.com/photos/brambling...  neutral            0\n",
       "7  https://media.istockphoto.com/photos/black-swa...  neutral            0\n",
       "8  https://i.ebayimg.com/images/g/QH0AAOSwDptexxw...  neutral            0\n",
       "9  https://media.istockphoto.com/photos/echidna-s...  neutral            0"
      ]
     },
     "execution_count": 91,
     "metadata": {},
     "output_type": "execute_result"
    }
   ],
   "source": [
    "train_set, eval_set = create_dataset(5, 5)\n",
    "print(f\"Training Set: {len(train_set)} against Evaluation Set: {len(eval_set)}\")\n",
    "\n",
    "save_dataset(train_set, eval_set, \"50-50\")\n",
    "\n",
    "train50 = pd.read_csv(\"data/processed-data/50-50/train.csv\")\n",
    "train50.iloc[0:10]"
   ]
  },
  {
   "cell_type": "markdown",
   "metadata": {},
   "source": [
    "## 70 - 30 Dataset"
   ]
  },
  {
   "cell_type": "code",
   "execution_count": 92,
   "metadata": {},
   "outputs": [
    {
     "name": "stdout",
     "output_type": "stream",
     "text": [
      "Training Set: 39340 against Evaluation Set: 16860\n"
     ]
    },
    {
     "data": {
      "text/html": [
       "<div>\n",
       "<style scoped>\n",
       "    .dataframe tbody tr th:only-of-type {\n",
       "        vertical-align: middle;\n",
       "    }\n",
       "\n",
       "    .dataframe tbody tr th {\n",
       "        vertical-align: top;\n",
       "    }\n",
       "\n",
       "    .dataframe thead th {\n",
       "        text-align: right;\n",
       "    }\n",
       "</style>\n",
       "<table border=\"1\" class=\"dataframe\">\n",
       "  <thead>\n",
       "    <tr style=\"text-align: right;\">\n",
       "      <th></th>\n",
       "      <th>img_link</th>\n",
       "      <th>category</th>\n",
       "      <th>is_explicit</th>\n",
       "    </tr>\n",
       "  </thead>\n",
       "  <tbody>\n",
       "    <tr>\n",
       "      <th>0</th>\n",
       "      <td>https://img-hw.xnxx-cdn.com/videos/thumbslll/b...</td>\n",
       "      <td>Amateur</td>\n",
       "      <td>1</td>\n",
       "    </tr>\n",
       "    <tr>\n",
       "      <th>1</th>\n",
       "      <td>https://img-egc.xvideos-cdn.com/videos/thumbsl...</td>\n",
       "      <td>Amateur</td>\n",
       "      <td>1</td>\n",
       "    </tr>\n",
       "    <tr>\n",
       "      <th>2</th>\n",
       "      <td>http://img-hw.xvideos.com/videos/thumbsll/16/3...</td>\n",
       "      <td>Amateur</td>\n",
       "      <td>1</td>\n",
       "    </tr>\n",
       "    <tr>\n",
       "      <th>3</th>\n",
       "      <td>https://img-egc.xvideos-cdn.com/videos/thumbsl...</td>\n",
       "      <td>Amateur</td>\n",
       "      <td>1</td>\n",
       "    </tr>\n",
       "    <tr>\n",
       "      <th>4</th>\n",
       "      <td>http://cdn1b.static.pornhub.phncdn.com/www-sta...</td>\n",
       "      <td>Amateur</td>\n",
       "      <td>1</td>\n",
       "    </tr>\n",
       "    <tr>\n",
       "      <th>5</th>\n",
       "      <td>https://img-hw.xnxx-cdn.com/videos/thumbslll/d...</td>\n",
       "      <td>Amateur</td>\n",
       "      <td>1</td>\n",
       "    </tr>\n",
       "    <tr>\n",
       "      <th>6</th>\n",
       "      <td>https://img-egc.xnxx-cdn.com/videos/thumbslll/...</td>\n",
       "      <td>Amateur</td>\n",
       "      <td>1</td>\n",
       "    </tr>\n",
       "    <tr>\n",
       "      <th>7</th>\n",
       "      <td>https://aquaanimania.com/wp-content/uploads/20...</td>\n",
       "      <td>neutral</td>\n",
       "      <td>0</td>\n",
       "    </tr>\n",
       "    <tr>\n",
       "      <th>8</th>\n",
       "      <td>https://media.istockphoto.com/photos/brambling...</td>\n",
       "      <td>neutral</td>\n",
       "      <td>0</td>\n",
       "    </tr>\n",
       "    <tr>\n",
       "      <th>9</th>\n",
       "      <td>https://media.istockphoto.com/photos/black-swa...</td>\n",
       "      <td>neutral</td>\n",
       "      <td>0</td>\n",
       "    </tr>\n",
       "  </tbody>\n",
       "</table>\n",
       "</div>"
      ],
      "text/plain": [
       "                                            img_link category  is_explicit\n",
       "0  https://img-hw.xnxx-cdn.com/videos/thumbslll/b...  Amateur            1\n",
       "1  https://img-egc.xvideos-cdn.com/videos/thumbsl...  Amateur            1\n",
       "2  http://img-hw.xvideos.com/videos/thumbsll/16/3...  Amateur            1\n",
       "3  https://img-egc.xvideos-cdn.com/videos/thumbsl...  Amateur            1\n",
       "4  http://cdn1b.static.pornhub.phncdn.com/www-sta...  Amateur            1\n",
       "5  https://img-hw.xnxx-cdn.com/videos/thumbslll/d...  Amateur            1\n",
       "6  https://img-egc.xnxx-cdn.com/videos/thumbslll/...  Amateur            1\n",
       "7  https://aquaanimania.com/wp-content/uploads/20...  neutral            0\n",
       "8  https://media.istockphoto.com/photos/brambling...  neutral            0\n",
       "9  https://media.istockphoto.com/photos/black-swa...  neutral            0"
      ]
     },
     "execution_count": 92,
     "metadata": {},
     "output_type": "execute_result"
    }
   ],
   "source": [
    "train_set, eval_set = create_dataset(7, 3)\n",
    "print(f\"Training Set: {len(train_set)} against Evaluation Set: {len(eval_set)}\")\n",
    "\n",
    "save_dataset(train_set, eval_set, \"70-30\")\n",
    "\n",
    "train50 = pd.read_csv(\"data/processed-data/70-30/train.csv\")\n",
    "train50.iloc[0:10]"
   ]
  },
  {
   "cell_type": "markdown",
   "metadata": {},
   "source": [
    "## 80 - 20 Dataset"
   ]
  },
  {
   "cell_type": "code",
   "execution_count": 93,
   "metadata": {},
   "outputs": [
    {
     "name": "stdout",
     "output_type": "stream",
     "text": [
      "Training Set: 34426 against Evaluation Set: 14754\n"
     ]
    },
    {
     "data": {
      "text/html": [
       "<div>\n",
       "<style scoped>\n",
       "    .dataframe tbody tr th:only-of-type {\n",
       "        vertical-align: middle;\n",
       "    }\n",
       "\n",
       "    .dataframe tbody tr th {\n",
       "        vertical-align: top;\n",
       "    }\n",
       "\n",
       "    .dataframe thead th {\n",
       "        text-align: right;\n",
       "    }\n",
       "</style>\n",
       "<table border=\"1\" class=\"dataframe\">\n",
       "  <thead>\n",
       "    <tr style=\"text-align: right;\">\n",
       "      <th></th>\n",
       "      <th>img_link</th>\n",
       "      <th>category</th>\n",
       "      <th>is_explicit</th>\n",
       "    </tr>\n",
       "  </thead>\n",
       "  <tbody>\n",
       "    <tr>\n",
       "      <th>0</th>\n",
       "      <td>https://img-hw.xnxx-cdn.com/videos/thumbslll/b...</td>\n",
       "      <td>Amateur</td>\n",
       "      <td>1</td>\n",
       "    </tr>\n",
       "    <tr>\n",
       "      <th>1</th>\n",
       "      <td>https://img-egc.xvideos-cdn.com/videos/thumbsl...</td>\n",
       "      <td>Amateur</td>\n",
       "      <td>1</td>\n",
       "    </tr>\n",
       "    <tr>\n",
       "      <th>2</th>\n",
       "      <td>http://img-hw.xvideos.com/videos/thumbsll/16/3...</td>\n",
       "      <td>Amateur</td>\n",
       "      <td>1</td>\n",
       "    </tr>\n",
       "    <tr>\n",
       "      <th>3</th>\n",
       "      <td>https://img-egc.xvideos-cdn.com/videos/thumbsl...</td>\n",
       "      <td>Amateur</td>\n",
       "      <td>1</td>\n",
       "    </tr>\n",
       "    <tr>\n",
       "      <th>4</th>\n",
       "      <td>http://cdn1b.static.pornhub.phncdn.com/www-sta...</td>\n",
       "      <td>Amateur</td>\n",
       "      <td>1</td>\n",
       "    </tr>\n",
       "    <tr>\n",
       "      <th>5</th>\n",
       "      <td>https://img-hw.xnxx-cdn.com/videos/thumbslll/d...</td>\n",
       "      <td>Amateur</td>\n",
       "      <td>1</td>\n",
       "    </tr>\n",
       "    <tr>\n",
       "      <th>6</th>\n",
       "      <td>https://img-egc.xnxx-cdn.com/videos/thumbslll/...</td>\n",
       "      <td>Amateur</td>\n",
       "      <td>1</td>\n",
       "    </tr>\n",
       "    <tr>\n",
       "      <th>7</th>\n",
       "      <td>http://cdn1a.limg.pornhub.phncdn.com/m=bKW1KNV...</td>\n",
       "      <td>Amateur</td>\n",
       "      <td>1</td>\n",
       "    </tr>\n",
       "    <tr>\n",
       "      <th>8</th>\n",
       "      <td>https://aquaanimania.com/wp-content/uploads/20...</td>\n",
       "      <td>neutral</td>\n",
       "      <td>0</td>\n",
       "    </tr>\n",
       "    <tr>\n",
       "      <th>9</th>\n",
       "      <td>https://media.istockphoto.com/photos/brambling...</td>\n",
       "      <td>neutral</td>\n",
       "      <td>0</td>\n",
       "    </tr>\n",
       "  </tbody>\n",
       "</table>\n",
       "</div>"
      ],
      "text/plain": [
       "                                            img_link category  is_explicit\n",
       "0  https://img-hw.xnxx-cdn.com/videos/thumbslll/b...  Amateur            1\n",
       "1  https://img-egc.xvideos-cdn.com/videos/thumbsl...  Amateur            1\n",
       "2  http://img-hw.xvideos.com/videos/thumbsll/16/3...  Amateur            1\n",
       "3  https://img-egc.xvideos-cdn.com/videos/thumbsl...  Amateur            1\n",
       "4  http://cdn1b.static.pornhub.phncdn.com/www-sta...  Amateur            1\n",
       "5  https://img-hw.xnxx-cdn.com/videos/thumbslll/d...  Amateur            1\n",
       "6  https://img-egc.xnxx-cdn.com/videos/thumbslll/...  Amateur            1\n",
       "7  http://cdn1a.limg.pornhub.phncdn.com/m=bKW1KNV...  Amateur            1\n",
       "8  https://aquaanimania.com/wp-content/uploads/20...  neutral            0\n",
       "9  https://media.istockphoto.com/photos/brambling...  neutral            0"
      ]
     },
     "execution_count": 93,
     "metadata": {},
     "output_type": "execute_result"
    }
   ],
   "source": [
    "train_set, eval_set = create_dataset(8, 2)\n",
    "print(f\"Training Set: {len(train_set)} against Evaluation Set: {len(eval_set)}\")\n",
    "\n",
    "save_dataset(train_set, eval_set, \"80-20\")\n",
    "\n",
    "train50 = pd.read_csv(\"data/processed-data/80-20/train.csv\")\n",
    "train50.iloc[0:10]"
   ]
  },
  {
   "cell_type": "markdown",
   "metadata": {},
   "source": [
    "## 90 - 10 Dataset"
   ]
  },
  {
   "cell_type": "code",
   "execution_count": 94,
   "metadata": {},
   "outputs": [
    {
     "name": "stdout",
     "output_type": "stream",
     "text": [
      "Training Set: 30596 against Evaluation Set: 13114\n"
     ]
    },
    {
     "data": {
      "text/html": [
       "<div>\n",
       "<style scoped>\n",
       "    .dataframe tbody tr th:only-of-type {\n",
       "        vertical-align: middle;\n",
       "    }\n",
       "\n",
       "    .dataframe tbody tr th {\n",
       "        vertical-align: top;\n",
       "    }\n",
       "\n",
       "    .dataframe thead th {\n",
       "        text-align: right;\n",
       "    }\n",
       "</style>\n",
       "<table border=\"1\" class=\"dataframe\">\n",
       "  <thead>\n",
       "    <tr style=\"text-align: right;\">\n",
       "      <th></th>\n",
       "      <th>img_link</th>\n",
       "      <th>category</th>\n",
       "      <th>is_explicit</th>\n",
       "    </tr>\n",
       "  </thead>\n",
       "  <tbody>\n",
       "    <tr>\n",
       "      <th>0</th>\n",
       "      <td>https://img-hw.xnxx-cdn.com/videos/thumbslll/b...</td>\n",
       "      <td>Amateur</td>\n",
       "      <td>1</td>\n",
       "    </tr>\n",
       "    <tr>\n",
       "      <th>1</th>\n",
       "      <td>https://img-egc.xvideos-cdn.com/videos/thumbsl...</td>\n",
       "      <td>Amateur</td>\n",
       "      <td>1</td>\n",
       "    </tr>\n",
       "    <tr>\n",
       "      <th>2</th>\n",
       "      <td>http://img-hw.xvideos.com/videos/thumbsll/16/3...</td>\n",
       "      <td>Amateur</td>\n",
       "      <td>1</td>\n",
       "    </tr>\n",
       "    <tr>\n",
       "      <th>3</th>\n",
       "      <td>https://img-egc.xvideos-cdn.com/videos/thumbsl...</td>\n",
       "      <td>Amateur</td>\n",
       "      <td>1</td>\n",
       "    </tr>\n",
       "    <tr>\n",
       "      <th>4</th>\n",
       "      <td>http://cdn1b.static.pornhub.phncdn.com/www-sta...</td>\n",
       "      <td>Amateur</td>\n",
       "      <td>1</td>\n",
       "    </tr>\n",
       "    <tr>\n",
       "      <th>5</th>\n",
       "      <td>https://img-hw.xnxx-cdn.com/videos/thumbslll/d...</td>\n",
       "      <td>Amateur</td>\n",
       "      <td>1</td>\n",
       "    </tr>\n",
       "    <tr>\n",
       "      <th>6</th>\n",
       "      <td>https://img-egc.xnxx-cdn.com/videos/thumbslll/...</td>\n",
       "      <td>Amateur</td>\n",
       "      <td>1</td>\n",
       "    </tr>\n",
       "    <tr>\n",
       "      <th>7</th>\n",
       "      <td>http://cdn1a.limg.pornhub.phncdn.com/m=bKW1KNV...</td>\n",
       "      <td>Amateur</td>\n",
       "      <td>1</td>\n",
       "    </tr>\n",
       "    <tr>\n",
       "      <th>8</th>\n",
       "      <td>http://a99.nudevista.com/203/61326203.b.jpg</td>\n",
       "      <td>Amateur</td>\n",
       "      <td>1</td>\n",
       "    </tr>\n",
       "    <tr>\n",
       "      <th>9</th>\n",
       "      <td>https://aquaanimania.com/wp-content/uploads/20...</td>\n",
       "      <td>neutral</td>\n",
       "      <td>0</td>\n",
       "    </tr>\n",
       "  </tbody>\n",
       "</table>\n",
       "</div>"
      ],
      "text/plain": [
       "                                            img_link category  is_explicit\n",
       "0  https://img-hw.xnxx-cdn.com/videos/thumbslll/b...  Amateur            1\n",
       "1  https://img-egc.xvideos-cdn.com/videos/thumbsl...  Amateur            1\n",
       "2  http://img-hw.xvideos.com/videos/thumbsll/16/3...  Amateur            1\n",
       "3  https://img-egc.xvideos-cdn.com/videos/thumbsl...  Amateur            1\n",
       "4  http://cdn1b.static.pornhub.phncdn.com/www-sta...  Amateur            1\n",
       "5  https://img-hw.xnxx-cdn.com/videos/thumbslll/d...  Amateur            1\n",
       "6  https://img-egc.xnxx-cdn.com/videos/thumbslll/...  Amateur            1\n",
       "7  http://cdn1a.limg.pornhub.phncdn.com/m=bKW1KNV...  Amateur            1\n",
       "8        http://a99.nudevista.com/203/61326203.b.jpg  Amateur            1\n",
       "9  https://aquaanimania.com/wp-content/uploads/20...  neutral            0"
      ]
     },
     "execution_count": 94,
     "metadata": {},
     "output_type": "execute_result"
    }
   ],
   "source": [
    "train_set, eval_set = create_dataset(9, 1)\n",
    "print(f\"Training Set: {len(train_set)} against Evaluation Set: {len(eval_set)}\")\n",
    "\n",
    "save_dataset(train_set, eval_set, \"90-10\")\n",
    "\n",
    "train50 = pd.read_csv(\"data/processed-data/90-10/train.csv\")\n",
    "train50.iloc[0:10]"
   ]
  }
 ],
 "metadata": {
  "kernelspec": {
   "display_name": "Python 3",
   "language": "python",
   "name": "python3"
  },
  "language_info": {
   "codemirror_mode": {
    "name": "ipython",
    "version": 3
   },
   "file_extension": ".py",
   "mimetype": "text/x-python",
   "name": "python",
   "nbconvert_exporter": "python",
   "pygments_lexer": "ipython3",
   "version": "3.8.5"
  }
 },
 "nbformat": 4,
 "nbformat_minor": 4
}
